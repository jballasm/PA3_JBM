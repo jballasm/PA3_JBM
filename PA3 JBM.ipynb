{
 "cells": [
  {
   "cell_type": "markdown",
   "id": "805da267",
   "metadata": {},
   "source": [
    "# PA2 Assignment\n",
    "### Juan Ballas Marchant\n",
    "**Version 1**\n",
    "\n",
    "**CS-150-01 FA2023**"
   ]
  },
  {
   "cell_type": "markdown",
   "id": "1872adb5",
   "metadata": {},
   "source": [
    "## Task 1: List Operations\n",
    "* A. Create a list called numbers containing the integers 10, 20, 30, 40, 50.\n",
    "* B. Append the number 60 to the list.\n",
    "* C. Insert the number 5 at the beginning of the list.\n",
    "* D. Remove the second element from the list.\n",
    "* E. Print the modified numbers list."
   ]
  },
  {
   "cell_type": "code",
   "execution_count": 1,
   "id": "29d89528",
   "metadata": {},
   "outputs": [],
   "source": [
    "numbers=[10,20,30,40,50]"
   ]
  },
  {
   "cell_type": "code",
   "execution_count": 2,
   "id": "ba3e84d6",
   "metadata": {},
   "outputs": [],
   "source": [
    "numbers.append(60)"
   ]
  },
  {
   "cell_type": "code",
   "execution_count": 3,
   "id": "683a0da8",
   "metadata": {},
   "outputs": [],
   "source": [
    "numbers.insert(0,5)"
   ]
  },
  {
   "cell_type": "code",
   "execution_count": 4,
   "id": "4b2ecac0",
   "metadata": {},
   "outputs": [],
   "source": [
    "numbers.remove(20)"
   ]
  },
  {
   "cell_type": "code",
   "execution_count": 5,
   "id": "60cd0392",
   "metadata": {},
   "outputs": [
    {
     "name": "stdout",
     "output_type": "stream",
     "text": [
      "[5, 10, 30, 40, 50, 60]\n"
     ]
    }
   ],
   "source": [
    "print(numbers)"
   ]
  },
  {
   "cell_type": "markdown",
   "id": "a3be913d",
   "metadata": {},
   "source": [
    "## Task 2: Tuple Basics\n",
    "* A. Create a tuple called days containing the days of the week: \"Monday\" to \"Sunday\".\n",
    "* B. Print the third day of the week.\n",
    "* C. Attempt to modify the second day to \"Funday\". Note and explain the error that occurs.\n"
   ]
  },
  {
   "cell_type": "code",
   "execution_count": 6,
   "id": "5b0483ee",
   "metadata": {},
   "outputs": [
    {
     "data": {
      "text/plain": [
       "tuple"
      ]
     },
     "execution_count": 6,
     "metadata": {},
     "output_type": "execute_result"
    }
   ],
   "source": [
    "days=()\n",
    "type(days)"
   ]
  },
  {
   "cell_type": "code",
   "execution_count": 7,
   "id": "7cb6102b",
   "metadata": {},
   "outputs": [],
   "source": [
    "days=('Monday','Tuesday','Wednesday','Thursday','Friday','Saturday','Sunday')"
   ]
  },
  {
   "cell_type": "code",
   "execution_count": 8,
   "id": "0c4e2ddf",
   "metadata": {},
   "outputs": [
    {
     "name": "stdout",
     "output_type": "stream",
     "text": [
      "Wednesday\n"
     ]
    }
   ],
   "source": [
    "print(days[2])"
   ]
  },
  {
   "cell_type": "code",
   "execution_count": 9,
   "id": "53612c39",
   "metadata": {},
   "outputs": [],
   "source": [
    "#days[4]='Funday'\n",
    "#TypeError: 'tuple' object does not support item assignment\n",
    "#It shows this error becuase tuples cannot be changed or mutated"
   ]
  },
  {
   "cell_type": "markdown",
   "id": "0755908a",
   "metadata": {},
   "source": [
    "## Task 3: Reversing Sublist\n",
    "* A. Create a list named letters containing the letters of the alphabet: \"a\" to \"z\".\n",
    "* B. Use list slicing to extract the sublist [p, o, n, m, l, k] from the letters list.\n",
    "* C. Reverse the sublist extracted in step 2 and print it."
   ]
  },
  {
   "cell_type": "code",
   "execution_count": 10,
   "id": "daf53b4d",
   "metadata": {},
   "outputs": [
    {
     "name": "stdout",
     "output_type": "stream",
     "text": [
      "['a', 'b', 'c', 'd', 'e', 'f', 'g', 'h', 'i', 'j', 'k', 'l', 'm', 'n', 'o', 'p', 'q', 'r', 's', 't', 'u', 'v', 'w', 'x', 'y', 'z']\n"
     ]
    }
   ],
   "source": [
    "letters= \"a b c d e f g h i j k l m n o p q r s t u v w x y z\"\n",
    "letters=letters.split(sep=\" \")\n",
    "print(letters)"
   ]
  },
  {
   "cell_type": "code",
   "execution_count": 11,
   "id": "0d168b95",
   "metadata": {},
   "outputs": [
    {
     "data": {
      "text/plain": [
       "['k', 'l', 'm', 'n', 'o', 'p']"
      ]
     },
     "execution_count": 11,
     "metadata": {},
     "output_type": "execute_result"
    }
   ],
   "source": [
    "letters[10:16]"
   ]
  },
  {
   "cell_type": "code",
   "execution_count": 12,
   "id": "57f1d642",
   "metadata": {},
   "outputs": [],
   "source": [
    "letters.reverse()"
   ]
  },
  {
   "cell_type": "code",
   "execution_count": 13,
   "id": "e2c9d2d7",
   "metadata": {},
   "outputs": [
    {
     "name": "stdout",
     "output_type": "stream",
     "text": [
      "['p', 'o', 'n', 'm', 'l', 'k']\n"
     ]
    }
   ],
   "source": [
    "print(letters[10:16])"
   ]
  },
  {
   "cell_type": "markdown",
   "id": "66763bb8",
   "metadata": {},
   "source": [
    "## Task 4: Tuple Packing and Unpacking\n",
    "* A. Create a tuple called student with your first name, last name, age, and your favorite subject \n",
    "(in that order).\n",
    "* B. Unpack the student tuple and print each value individually.\n",
    "\n"
   ]
  },
  {
   "cell_type": "code",
   "execution_count": 14,
   "id": "7eddaf87",
   "metadata": {},
   "outputs": [],
   "source": [
    "student=('Juan','Ballas',22,'Math')"
   ]
  },
  {
   "cell_type": "code",
   "execution_count": 15,
   "id": "a2d47c3b",
   "metadata": {},
   "outputs": [
    {
     "name": "stdout",
     "output_type": "stream",
     "text": [
      "My first name is:  Juan\n",
      "My first name is:  Ballas\n",
      "My first name is:  22\n",
      "My first name is:  Math\n"
     ]
    }
   ],
   "source": [
    "first_name,last_name,age,subject=student\n",
    "print('My first name is: ',first_name)\n",
    "print('My first name is: ',last_name)\n",
    "print('My first name is: ',age)\n",
    "print('My first name is: ',subject)"
   ]
  },
  {
   "cell_type": "markdown",
   "id": "fbc61b22",
   "metadata": {},
   "source": [
    "## Task 5: Shopping List\n",
    "* A. Create a list named shopping_list with at least 5 items you would buy from a grocery store.\n",
    "* B. Print the total number of items on your shopping list.\n",
    "* C. Replace the third item on the list with a different item.\n",
    "* D. Sort the list in alphabetical order.\n",
    "* E. Print the sorted shopping list."
   ]
  },
  {
   "cell_type": "code",
   "execution_count": 19,
   "id": "10b65861",
   "metadata": {},
   "outputs": [],
   "source": [
    "shopping_list=['Grapes','Rice','Noodles','Milk','Eggs']"
   ]
  },
  {
   "cell_type": "code",
   "execution_count": 20,
   "id": "b622f52d",
   "metadata": {},
   "outputs": [
    {
     "name": "stdout",
     "output_type": "stream",
     "text": [
      "Total items: 5\n"
     ]
    }
   ],
   "source": [
    "print(f'Total items: {len(shopping_list)}')"
   ]
  },
  {
   "cell_type": "code",
   "execution_count": 21,
   "id": "694f7c94",
   "metadata": {},
   "outputs": [],
   "source": [
    "shopping_list[2]='Butter'"
   ]
  },
  {
   "cell_type": "code",
   "execution_count": 22,
   "id": "ba69c8ea",
   "metadata": {},
   "outputs": [],
   "source": [
    "shopping_list.sort()"
   ]
  },
  {
   "cell_type": "code",
   "execution_count": 23,
   "id": "87da280c",
   "metadata": {},
   "outputs": [
    {
     "name": "stdout",
     "output_type": "stream",
     "text": [
      "['Butter', 'Eggs', 'Grapes', 'Milk', 'Rice']\n"
     ]
    }
   ],
   "source": [
    "print(shopping_list)"
   ]
  }
 ],
 "metadata": {
  "kernelspec": {
   "display_name": "Python 3 (ipykernel)",
   "language": "python",
   "name": "python3"
  },
  "language_info": {
   "codemirror_mode": {
    "name": "ipython",
    "version": 3
   },
   "file_extension": ".py",
   "mimetype": "text/x-python",
   "name": "python",
   "nbconvert_exporter": "python",
   "pygments_lexer": "ipython3",
   "version": "3.11.4"
  }
 },
 "nbformat": 4,
 "nbformat_minor": 5
}
